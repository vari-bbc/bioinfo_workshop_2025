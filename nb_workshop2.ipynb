{
 "cells": [
  {
   "cell_type": "markdown",
   "id": "b02433bb",
   "metadata": {},
   "source": [
    "# Jupyter Interactivity in a Few Cells\n",
    "## Import and load data"
   ]
  },
  {
   "cell_type": "code",
   "execution_count": null,
   "id": "9c11746d-3cdc-437e-bbde-1dc015d33abf",
   "metadata": {},
   "outputs": [],
   "source": [
    "import pandas as pd\n",
    "import numpy as np\n",
    "\n",
    "# Point to the CSV (adjust the path if needed)\n",
    "csv_path = \"bio_toy_DE_results.csv\"\n",
    "df = pd.read_csv(csv_path)\n",
    "df.head()\n"
   ]
  },
  {
   "cell_type": "markdown",
   "id": "30985848",
   "metadata": {},
   "source": [
    "Let's use **itables** to interact with the dataframe with sortable headers, search box, pagination"
   ]
  },
  {
   "cell_type": "code",
   "execution_count": null,
   "id": "ab63b1c4-a7af-4e39-b1d2-44b4167fe2a0",
   "metadata": {},
   "outputs": [],
   "source": [
    "from itables import init_notebook_mode, show\n",
    "init_notebook_mode(all_interactive=True)\n",
    "\n",
    "show(df)"
   ]
  },
  {
   "cell_type": "markdown",
   "id": "f117e25f",
   "metadata": {},
   "source": [
    "### Filtering\n",
    "We are using **ipywidgets** + **itables.show** to allow interactive filering using sliders and drop-down menus."
   ]
  },
  {
   "cell_type": "code",
   "execution_count": null,
   "id": "afc12c59-af1f-4f46-8b66-dfcd05d11888",
   "metadata": {},
   "outputs": [],
   "source": [
    "import ipywidgets as W\n",
    "from IPython.display import display, clear_output\n",
    "from itables import show\n",
    "\n",
    "pathway_dd = W.Dropdown(options=[\"All\"] + sorted(df[\"pathway\"].unique()), value=\"All\", description=\"Pathway:\")\n",
    "padj_max   = W.FloatLogSlider(value=0.05, base=10, min=-6, max=0, step=0.1, description=\"padj ≤\")\n",
    "l2fc_min   = W.FloatSlider(value=1.0, min=0.0, max=3.0, step=0.1, description=\"|log2FC| ≥\")\n",
    "\n",
    "out = W.Output()\n",
    "\n",
    "def refresh(*_):\n",
    "    with out:\n",
    "        clear_output(wait=True)\n",
    "        filt = df[(df[\"padj\"] <= padj_max.value) & (df[\"log2FoldChange\"].abs() >= l2fc_min.value)]\n",
    "        if pathway_dd.value != \"All\":\n",
    "            filt = filt[filt[\"pathway\"] == pathway_dd.value]\n",
    "        show(filt.sort_values([\"padj\", \"log2FoldChange\"]))\n",
    "\n",
    "for w in (pathway_dd, padj_max, l2fc_min):\n",
    "    w.observe(refresh, names=\"value\")\n",
    "\n",
    "refresh()\n",
    "display(W.VBox([W.HBox([pathway_dd, padj_max, l2fc_min]), out]))\n"
   ]
  },
  {
   "cell_type": "markdown",
   "id": "66e16de8",
   "metadata": {},
   "source": [
    "## Interactive Volcano Plot\n",
    "\n",
    "For live-updating plots and pan/zoom. The first line of the cell tells the notebook to render the **matplotlib** plot as an interactive widget."
   ]
  },
  {
   "cell_type": "code",
   "execution_count": null,
   "id": "87e9bf73-af2e-45eb-985d-051429629d53",
   "metadata": {},
   "outputs": [],
   "source": [
    "%matplotlib widget\n",
    "import matplotlib.pyplot as plt\n",
    "import ipympl\n",
    "\n",
    "fig, ax = plt.subplots()\n",
    "sc = ax.scatter(df[\"log2FoldChange\"], -np.log10(df[\"padj\"]+1e-300), s=12, alpha=0.6)\n",
    "ax.set_xlabel(\"log2 fold change\")\n",
    "ax.set_ylabel(\"-log10(padj)\")\n",
    "ax.set_title(\"Volcano (interactive thresholds)\")\n",
    "\n",
    "# Threshold lines (updated by sliders)\n",
    "vline = ax.axvline(1.0, linestyle=\"--\", linewidth=1)\n",
    "vline2 = ax.axvline(-1.0, linestyle=\"--\", linewidth=1)\n",
    "hline = ax.axhline(-np.log10(0.05), linestyle=\"--\", linewidth=1)\n",
    "\n",
    "def update(l2fc=1.0, padj=0.05):\n",
    "    # Update lines\n",
    "    vline.set_xdata([l2fc, l2fc])\n",
    "    vline2.set_xdata([-l2fc, -l2fc])\n",
    "    hline.set_ydata([-np.log10(padj)])\n",
    "    # Highlight significant points by resizing markers\n",
    "    sig = (df[\"padj\"] <= padj) & (df[\"log2FoldChange\"].abs() >= l2fc)\n",
    "    sizes = np.where(sig, 30, 12)\n",
    "    sc.set_sizes(sizes)\n",
    "    fig.canvas.draw_idle()\n",
    "\n",
    "W.interact(update,\n",
    "           l2fc=W.FloatSlider(min=0.0, max=3.0, step=0.1, value=1.0, description=\"|log2FC|\"),\n",
    "           padj=W.FloatLogSlider(base=10, min=-6, max=0, step=0.1, value=0.05, description=\"padj\"));\n"
   ]
  },
  {
   "cell_type": "markdown",
   "id": "3fe4a808",
   "metadata": {},
   "source": [
    "## Histogram with Interactive Bin Count"
   ]
  },
  {
   "cell_type": "code",
   "execution_count": null,
   "id": "22438c1d-b6c4-4c3b-9468-3747f9fd3127",
   "metadata": {},
   "outputs": [],
   "source": [
    "%matplotlib widget\n",
    "import matplotlib.pyplot as plt\n",
    "\n",
    "fig2, ax2 = plt.subplots()\n",
    "\n",
    "def plot_sig_summary(padj=0.05, l2fc=1.0):\n",
    "    ax2.clear()\n",
    "    sig = df[(df[\"padj\"] <= padj) & (df[\"log2FoldChange\"].abs() >= l2fc)]\n",
    "    counts = sig[\"pathway\"].value_counts().sort_values(ascending=False)\n",
    "    counts.plot(kind=\"bar\", ax=ax2)\n",
    "    ax2.set_ylabel(\"# genes (significant)\")\n",
    "    ax2.set_title(f\"Significant genes by pathway (padj≤{padj:g}, |log2FC|≥{l2fc:g})\")\n",
    "    fig2.canvas.draw_idle()\n",
    "\n",
    "W.interact(plot_sig_summary,\n",
    "           padj=W.FloatLogSlider(base=10, min=-6, max=0, step=0.1, value=0.05, description=\"padj\"),\n",
    "           l2fc=W.FloatSlider(min=0.0, max=3.0, step=0.1, value=1.0, description=\"|log2FC|\"));\n"
   ]
  }
 ],
 "metadata": {
  "kernelspec": {
   "display_name": "Python (workshop_adv)",
   "language": "python",
   "name": "workshop_adv"
  },
  "language_info": {
   "codemirror_mode": {
    "name": "ipython",
    "version": 3
   },
   "file_extension": ".py",
   "mimetype": "text/x-python",
   "name": "python",
   "nbconvert_exporter": "python",
   "pygments_lexer": "ipython3",
   "version": "3.13.7"
  }
 },
 "nbformat": 4,
 "nbformat_minor": 5
}
